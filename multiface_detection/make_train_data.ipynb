{
 "cells": [
  {
   "cell_type": "code",
   "execution_count": null,
   "id": "1b22b12e",
   "metadata": {},
   "outputs": [],
   "source": [
    "import cv2\n",
    "import os\n",
    "\n",
    "casscade_path = \"haarcascade_frontalface_default.xml\"\n",
    "clf = cv2.CascadeClassifier(casscade_path)\n",
    "\n",
    "camera = cv2.VideoCapture(0)\n",
    "\n",
    "label = 0\n",
    "\n",
    "image_dir = \"dataset/images\"\n",
    "label_dir = \"dataset/labels\"\n",
    "\n",
    "os.makedirs(image_dir, exist_ok=True)\n",
    "os.makedirs(label_dir, exist_ok=True)\n",
    "image_count = 0\n",
    "\n",
    "while True:\n",
    "    _, frame = camera.read()\n",
    "\n",
    "    gray = cv2.cvtColor(frame, cv2.COLOR_BGR2GRAY)\n",
    "    faces = clf.detectMultiScale(gray, scaleFactor=1.1,\n",
    "                                 minNeighbors=5,\n",
    "                                 flags=cv2.CASCADE_SCALE_IMAGE,\n",
    "                                 minSize=(30, 30))\n",
    "\n",
    "    for (x, y, width, height) in faces:\n",
    "        cv2.rectangle(frame, (x, y), (x + width, y + height), (0, 0, 255), 2)\n",
    "\n",
    "        # Save image and annotation\n",
    "        image_name = f\"{image_dir}/frame_{label}_{image_count}.jpg\"\n",
    "        # image_path = os.path.join(image_dir, image_name)\n",
    "        # image_path = os.path.normpath(image_path)\n",
    "        cv2.imwrite(image_name, frame)\n",
    "\n",
    "        # Convert to YOLO format: class_id x_center y_center width height (normalized)\n",
    "        img_height, img_width = frame.shape[:2]\n",
    "        x_center = (x + width / 2) / img_width\n",
    "        y_center = (y + height / 2) / img_height\n",
    "        w_norm = width / img_width\n",
    "        h_norm = height / img_height\n",
    "\n",
    "        annotation = f\"{label} {x_center:.6f} {y_center:.6f} {w_norm:.6f} {h_norm:.6f}\\n\"\n",
    "        annotation_path = os.path.join(label_dir, f\"frame_{label}_{image_count}.txt\")\n",
    "        with open(annotation_path, \"w\") as f:\n",
    "            f.write(annotation)\n",
    "\n",
    "        image_count += 1\n",
    "\n",
    "    cv2.imshow(\"Camera\", frame)\n",
    "    if cv2.waitKey(1) == ord('q'):\n",
    "        break\n",
    "\n",
    "camera.release()\n",
    "cv2.destroyAllWindows()"
   ]
  },
  {
   "cell_type": "code",
   "execution_count": 6,
   "id": "08c22551",
   "metadata": {},
   "outputs": [
    {
     "data": {
      "text/plain": [
       "'..\\\\dataset\\\\images\\\\frame_0_63.jpg'"
      ]
     },
     "execution_count": 6,
     "metadata": {},
     "output_type": "execute_result"
    }
   ],
   "source": [
    "image_path"
   ]
  }
 ],
 "metadata": {
  "kernelspec": {
   "display_name": ".venv",
   "language": "python",
   "name": "python3"
  },
  "language_info": {
   "codemirror_mode": {
    "name": "ipython",
    "version": 3
   },
   "file_extension": ".py",
   "mimetype": "text/x-python",
   "name": "python",
   "nbconvert_exporter": "python",
   "pygments_lexer": "ipython3",
   "version": "3.11.9"
  }
 },
 "nbformat": 4,
 "nbformat_minor": 5
}
